{
 "cells": [
  {
   "cell_type": "code",
   "execution_count": 3,
   "metadata": {},
   "outputs": [],
   "source": [
    "from selenium import webdriver\n",
    "from time import sleep\n",
    "import time\n",
    "from selenium.webdriver.common.by import By\n",
    "import pandas as pd"
   ]
  },
  {
   "cell_type": "code",
   "execution_count": 4,
   "metadata": {},
   "outputs": [
    {
     "data": {
      "text/plain": [
       "<pandas.io.excel._base.ExcelFile at 0x12fdb4e50>"
      ]
     },
     "execution_count": 4,
     "metadata": {},
     "output_type": "execute_result"
    }
   ],
   "source": [
    "data = pd.ExcelFile(\"./data/Ahrefページ価値取得.xlsx\")\n",
    "data"
   ]
  },
  {
   "cell_type": "code",
   "execution_count": 7,
   "metadata": {},
   "outputs": [
    {
     "data": {
      "text/html": [
       "<div>\n",
       "<style scoped>\n",
       "    .dataframe tbody tr th:only-of-type {\n",
       "        vertical-align: middle;\n",
       "    }\n",
       "\n",
       "    .dataframe tbody tr th {\n",
       "        vertical-align: top;\n",
       "    }\n",
       "\n",
       "    .dataframe thead th {\n",
       "        text-align: right;\n",
       "    }\n",
       "</style>\n",
       "<table border=\"1\" class=\"dataframe\">\n",
       "  <thead>\n",
       "    <tr style=\"text-align: right;\">\n",
       "      <th></th>\n",
       "      <th>ドメイン</th>\n",
       "      <th>トラフィック</th>\n",
       "      <th>価値</th>\n",
       "      <th>キーワード</th>\n",
       "    </tr>\n",
       "  </thead>\n",
       "  <tbody>\n",
       "    <tr>\n",
       "      <th>0</th>\n",
       "      <td>mens-datsumo.jp</td>\n",
       "      <td>NaN</td>\n",
       "      <td>NaN</td>\n",
       "      <td>NaN</td>\n",
       "    </tr>\n",
       "    <tr>\n",
       "      <th>1</th>\n",
       "      <td>epinity.com</td>\n",
       "      <td>NaN</td>\n",
       "      <td>NaN</td>\n",
       "      <td>NaN</td>\n",
       "    </tr>\n",
       "    <tr>\n",
       "      <th>2</th>\n",
       "      <td>jfam.co.jp</td>\n",
       "      <td>NaN</td>\n",
       "      <td>NaN</td>\n",
       "      <td>NaN</td>\n",
       "    </tr>\n",
       "    <tr>\n",
       "      <th>3</th>\n",
       "      <td>chicken-gym.jp</td>\n",
       "      <td>NaN</td>\n",
       "      <td>NaN</td>\n",
       "      <td>NaN</td>\n",
       "    </tr>\n",
       "    <tr>\n",
       "      <th>4</th>\n",
       "      <td>zakzak.co.jp</td>\n",
       "      <td>NaN</td>\n",
       "      <td>NaN</td>\n",
       "      <td>NaN</td>\n",
       "    </tr>\n",
       "    <tr>\n",
       "      <th>5</th>\n",
       "      <td>getfit.jp</td>\n",
       "      <td>NaN</td>\n",
       "      <td>NaN</td>\n",
       "      <td>NaN</td>\n",
       "    </tr>\n",
       "    <tr>\n",
       "      <th>6</th>\n",
       "      <td>daily-tohoku.news</td>\n",
       "      <td>NaN</td>\n",
       "      <td>NaN</td>\n",
       "      <td>NaN</td>\n",
       "    </tr>\n",
       "  </tbody>\n",
       "</table>\n",
       "</div>"
      ],
      "text/plain": [
       "                ドメイン  トラフィック  価値  キーワード\n",
       "0    mens-datsumo.jp     NaN NaN    NaN\n",
       "1        epinity.com     NaN NaN    NaN\n",
       "2         jfam.co.jp     NaN NaN    NaN\n",
       "3     chicken-gym.jp     NaN NaN    NaN\n",
       "4       zakzak.co.jp     NaN NaN    NaN\n",
       "5          getfit.jp     NaN NaN    NaN\n",
       "6  daily-tohoku.news     NaN NaN    NaN"
      ]
     },
     "execution_count": 7,
     "metadata": {},
     "output_type": "execute_result"
    }
   ],
   "source": [
    "input_sheet_name = data.sheet_names\n",
    "data = data.parse(input_sheet_name[0])\n",
    "data"
   ]
  },
  {
   "cell_type": "code",
   "execution_count": 8,
   "metadata": {},
   "outputs": [
    {
     "name": "stdout",
     "output_type": "stream",
     "text": [
      "とれた！\n"
     ]
    }
   ],
   "source": [
    "USERNAME = \"media_general@joint.works\"\n",
    "PASSWORD = \"Jointinc\"\n",
    "\n",
    "options = webdriver.chrome.options.Options()\n",
    "options.add_argument(\"-headless\")\n",
    "options.add_argument(\"-no-sandbox\")\n",
    "profile_path = '/Users/suzukiharumasaru/Library/Application Support/Google/Chrome/Profile ahrefs'\n",
    "options.add_argument('--user-data-dir=' + profile_path)\n",
    "driver = webdriver.Chrome(options=options)\n",
    "\n",
    "target_url = \"https://app.ahrefs.com/user/login\"\n",
    "driver.get(target_url)\n",
    "sleep(5)\n",
    "\n",
    "username_input = driver.find_element(By.XPATH,'//*[@id=\"root\"]/div/div/div/div[1]/div/div/div/div/form/div/div[1]/div/input')\n",
    "print(\"とれた！\")\n",
    "\n",
    "username_input.send_keys(USERNAME)\n",
    "sleep(1)\n",
    "\n",
    "password_input = driver.find_element(By.XPATH,'//*[@id=\"root\"]/div/div/div/div[1]/div/div/div/div/form/div/div[2]/div/div/input')\n",
    "password_input.send_keys(PASSWORD)\n",
    "sleep(1)\n",
    "\n",
    "login_burron = driver.find_element(By.XPATH,'//*[@id=\"root\"]/div/div/div/div[1]/div/div/div/div/form/div/button/div')\n",
    "login_burron.submit()\n",
    "sleep(5)\n",
    "\n",
    "df = pd.DataFrame()\n",
    "\n",
    "for domain in data['ドメイン'].to_list():\n",
    "    ahrefs_url = \"https://app.ahrefs.com/positions-explorer/top-subfolders/subdomains/jp/all/all/all/all/all/all/all/1/traffic_desc?target=\"+domain+\"%2F\"\n",
    "\n",
    "    driver.get(ahrefs_url)\n",
    "    sleep(5)\n",
    "\n",
    "    df_tmp = driver.find_element(By.XPATH,'//*[@id=\"main_se_data_table\"]')\n",
    "\n",
    "    html = df_tmp.get_attribute('outerHTML')\n",
    "    df_tmp = pd.read_html(html)\n",
    "\n",
    "    df_tmp = df_tmp[0].head(1)\n",
    "\n",
    "    df_tmp = df_tmp[['トラフィック', '価値', 'キーワード']]\n",
    "    df_tmp.insert(0,'ドメイン',domain)\n",
    "    df_tmp.insert(4,'ahrefs上位ページ取得URL',ahrefs_url)\n",
    "\n",
    "    df = pd.concat([df, df_tmp], join='outer')\n",
    "driver.quit()"
   ]
  },
  {
   "cell_type": "code",
   "execution_count": 9,
   "metadata": {},
   "outputs": [],
   "source": [
    "df.to_excel('./output/output.xlsx',\n",
    "            index=False)"
   ]
  },
  {
   "cell_type": "code",
   "execution_count": 10,
   "metadata": {},
   "outputs": [
    {
     "data": {
      "text/plain": [
       "<pandas.io.excel._base.ExcelFile at 0x1382a7c10>"
      ]
     },
     "execution_count": 10,
     "metadata": {},
     "output_type": "execute_result"
    }
   ],
   "source": [
    "data_2 = pd.ExcelFile(\"./output/output.xlsx\")\n",
    "data_2"
   ]
  },
  {
   "cell_type": "code",
   "execution_count": null,
   "metadata": {},
   "outputs": [],
   "source": []
  }
 ],
 "metadata": {
  "kernelspec": {
   "display_name": "env",
   "language": "python",
   "name": "python3"
  },
  "language_info": {
   "codemirror_mode": {
    "name": "ipython",
    "version": 3
   },
   "file_extension": ".py",
   "mimetype": "text/x-python",
   "name": "python",
   "nbconvert_exporter": "python",
   "pygments_lexer": "ipython3",
   "version": "3.10.6"
  },
  "orig_nbformat": 4,
  "vscode": {
   "interpreter": {
    "hash": "ae39697843c0ba82f58b33e69f1daed34b68bdd95c769ea294cac74c762c101b"
   }
  }
 },
 "nbformat": 4,
 "nbformat_minor": 2
}
